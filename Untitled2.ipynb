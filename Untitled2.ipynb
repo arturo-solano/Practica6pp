{
  "nbformat": 4,
  "nbformat_minor": 0,
  "metadata": {
    "colab": {
      "provenance": [],
      "authorship_tag": "ABX9TyM/J2P1MJgVSuyoO8xokzuO",
      "include_colab_link": true
    },
    "kernelspec": {
      "name": "python3",
      "display_name": "Python 3"
    },
    "language_info": {
      "name": "python"
    }
  },
  "cells": [
    {
      "cell_type": "markdown",
      "metadata": {
        "id": "view-in-github",
        "colab_type": "text"
      },
      "source": [
        "<a href=\"https://colab.research.google.com/github/arturo-solano/Practica6pp/blob/master/Untitled2.ipynb\" target=\"_parent\"><img src=\"https://colab.research.google.com/assets/colab-badge.svg\" alt=\"Open In Colab\"/></a>"
      ]
    },
    {
      "cell_type": "markdown",
      "source": [
        "Declaracion de la clase Trapecio"
      ],
      "metadata": {
        "id": "jt3h1tENmGWS"
      }
    },
    {
      "cell_type": "code",
      "execution_count": 21,
      "metadata": {
        "id": "c-5H8WbXlzN8"
      },
      "outputs": [],
      "source": [
        "class Trapecio:\n",
        "    # Constructor público\n",
        "    def __init__(self, color, base_mayor, base_menor, altura, lado1, lado2):\n",
        "        self.__color = color\n",
        "        self.__base_mayor = base_mayor\n",
        "        self.__base_menor = base_menor\n",
        "        self.__altura = altura\n",
        "        self.__lado1 = lado1\n",
        "        self.__lado2 = lado2\n",
        "        self.__area = 0\n",
        "        self.__perimetro = 0\n",
        "        #self.calcular_area()\n",
        "        #self.calcular_perimetro()\n",
        "\n",
        "    def get_color(self):\n",
        "        return self.__color\n",
        "\n",
        "    def get_base_mayor(self):\n",
        "        return self.__base_mayor\n",
        "\n",
        "    def get_base_menor(self):\n",
        "        return self.__base_menor\n",
        "\n",
        "    def get_altura(self):\n",
        "        return self.__altura\n",
        "\n",
        "    def get_lado1(self):\n",
        "        return self.__lado1\n",
        "\n",
        "    def get_lado2(self):\n",
        "        return self.__lado2\n",
        "\n",
        "    def get_area(self):\n",
        "        return self.__area\n",
        "\n",
        "    def get_perimetro(self):\n",
        "        return self.__perimetro"
      ]
    },
    {
      "cell_type": "markdown",
      "source": [
        "Métodos para calcular el área y el perímetro"
      ],
      "metadata": {
        "id": "yaqXSjwGwkmH"
      }
    },
    {
      "cell_type": "code",
      "source": [
        "def calcular_area(self):\n",
        "  self.__area = ((self.__base_mayor + self.__base_menor) * self.__altura) / 2\n",
        "\n",
        "def calcular_perimetro(self):\n",
        "  self.__perimetro = self.__base_mayor + self.__base_menor + self.__lado1 + self.__lado2"
      ],
      "metadata": {
        "id": "PvStgGkYwmpE"
      },
      "execution_count": 12,
      "outputs": []
    },
    {
      "cell_type": "markdown",
      "source": [
        "Metodos para establecer los valores"
      ],
      "metadata": {
        "id": "4XHOyqdTxEYe"
      }
    },
    {
      "cell_type": "code",
      "source": [
        "def set_color(self, color):\n",
        "        self.__color = color\n",
        "\n",
        "def set_base_mayor(self, base_mayor):\n",
        "        self.__base_mayor = base_mayor\n",
        "        self.calcular_area()\n",
        "        self.calcular_perimetro()\n",
        "\n",
        "def set_base_menor(self, base_menor):\n",
        "        self.__base_menor = base_menor\n",
        "        self.calcular_area()\n",
        "        self.calcular_perimetro()\n",
        "\n",
        "def set_altura(self, altura):\n",
        "        self.__altura = altura\n",
        "        self.calcular_area()\n",
        "\n",
        "def set_lado1(self, lado1):\n",
        "        self.__lado1 = lado1\n",
        "        self.calcular_perimetro()\n",
        "\n",
        "def set_lado2(self, lado2):\n",
        "        self.__lado2 = lado2\n",
        "        self.calcular_perimetro()"
      ],
      "metadata": {
        "id": "WvCSH5JS0nmK"
      },
      "execution_count": 17,
      "outputs": []
    },
    {
      "cell_type": "markdown",
      "source": [
        "Uso del codigo Trapecio"
      ],
      "metadata": {
        "id": "dTR5ZTCG04oh"
      }
    },
    {
      "cell_type": "code",
      "source": [
        "miTrapecio = Trapecio(\"Azul\", 8, 6, 5, 4, 4)\n",
        "print(\"Color del trapecio:\", miTrapecio.get_color())\n",
        "print(\"Base mayor del trapecio:\", miTrapecio.get_base_mayor())\n",
        "print(\"Base menor del trapecio:\", miTrapecio.get_base_menor())\n",
        "print(\"Altura del trapecio:\", miTrapecio.get_altura())\n",
        "print(\"Lado 1 del trapecio:\", miTrapecio.get_lado1())\n",
        "print(\"Lado 2 del trapecio:\", miTrapecio.get_lado2())\n",
        "print(\"Área del trapecio:\", miTrapecio.get_area())\n",
        "print(\"Perímetro del trapecio:\", miTrapecio.get_perimetro())"
      ],
      "metadata": {
        "colab": {
          "base_uri": "https://localhost:8080/"
        },
        "id": "hlvk1rqM0-N9",
        "outputId": "17e1d92e-9f7e-43f7-8317-48648e2ffe79"
      },
      "execution_count": 22,
      "outputs": [
        {
          "output_type": "stream",
          "name": "stdout",
          "text": [
            "Color del trapecio: Azul\n",
            "Base mayor del trapecio: 8\n",
            "Base menor del trapecio: 6\n",
            "Altura del trapecio: 5\n",
            "Lado 1 del trapecio: 4\n",
            "Lado 2 del trapecio: 4\n",
            "Área del trapecio: 0\n",
            "Perímetro del trapecio: 0\n"
          ]
        }
      ]
    }
  ]
}