{
  "nbformat": 4,
  "nbformat_minor": 0,
  "metadata": {
    "colab": {
      "provenance": [],
      "authorship_tag": "ABX9TyPkP7jmNyuxOqdlbJyXf/7z",
      "include_colab_link": true
    },
    "kernelspec": {
      "name": "python3",
      "display_name": "Python 3"
    },
    "language_info": {
      "name": "python"
    }
  },
  "cells": [
    {
      "cell_type": "markdown",
      "metadata": {
        "id": "view-in-github",
        "colab_type": "text"
      },
      "source": [
        "<a href=\"https://colab.research.google.com/github/arturo-solano/Practica6pp/blob/master/ClassTriangulo.ipynb\" target=\"_parent\"><img src=\"https://colab.research.google.com/assets/colab-badge.svg\" alt=\"Open In Colab\"/></a>"
      ]
    },
    {
      "cell_type": "code",
      "execution_count": 1,
      "metadata": {
        "id": "qLaZPNdZZTlF"
      },
      "outputs": [],
      "source": [
        "import math\n",
        "\n",
        "class Triangulo:\n",
        "    # Constructor público\n",
        "    def __init__(self, color, lado1, lado2, lado3):\n",
        "        self.__color = color\n",
        "        self.__lado1 = lado1\n",
        "        self.__lado2 = lado2\n",
        "        self.__lado3 = lado3\n",
        "        self.__area = 0\n",
        "        self.__perimetro = 0\n",
        "        self.calcular_area()\n",
        "        self.calcular_perimetro()\n",
        "\n",
        "    # Métodos para calcular el área y el perímetro\n",
        "    def calcular_area(self):\n",
        "        s = (self.__lado1 + self.__lado2 + self.__lado3) / 2\n",
        "        self.__area = math.sqrt(s * (s - self.__lado1) * (s - self.__lado2) * (s - self.__lado3))\n",
        "\n",
        "    def calcular_perimetro(self):\n",
        "        self.__perimetro = self.__lado1 + self.__lado2 + self.__lado3\n",
        "\n",
        "    # Métodos para obtener los atributos\n",
        "    def get_color(self):\n",
        "        return self.__color\n",
        "\n",
        "    def get_lado1(self):\n",
        "        return self.__lado1\n",
        "\n",
        "    def get_lado2(self):\n",
        "        return self.__lado2\n",
        "\n",
        "    def get_lado3(self):\n",
        "        return self.__lado3\n",
        "\n",
        "    def get_area(self):\n",
        "        return self.__area\n",
        "\n",
        "    def get_perimetro(self):\n",
        "        return self.__perimetro\n",
        "\n",
        "    # Setters\n",
        "    def set_color(self, color):\n",
        "        self.__color = color\n",
        "\n",
        "    def set_lado1(self, lado1):\n",
        "        self.__lado1 = lado1\n",
        "        self.calcular_area()\n",
        "        self.calcular_perimetro()\n",
        "\n",
        "    def set_lado2(self, lado2):\n",
        "        self.__lado2 = lado2\n",
        "        self.calcular_area()\n",
        "        self.calcular_perimetro()\n",
        "\n",
        "    def set_lado3(self, lado3):\n",
        "        self.__lado3 = lado3\n",
        "        self.calcular_area()\n",
        "        self.calcular_perimetro()"
      ]
    },
    {
      "cell_type": "code",
      "source": [
        "# Ejemplo de uso\n",
        "miTriangulo = Triangulo(\"Rojo\", 3, 4, 5)\n",
        "\n",
        "print(\"Color del triángulo:\", miTriangulo.get_color())\n",
        "print(\"Lado 1 del triángulo:\", miTriangulo.get_lado1())\n",
        "print(\"Lado 2 del triángulo:\", miTriangulo.get_lado2())\n",
        "print(\"Lado 3 del triángulo:\", miTriangulo.get_lado3())\n",
        "print(\"Área del triángulo:\", miTriangulo.get_area())\n",
        "print(\"Perímetro del triángulo:\", miTriangulo.get_perimetro())\n",
        "\n",
        "# Cambiando los lados y mostrando los nuevos cálculos\n",
        "miTriangulo.set_lado1(6)\n",
        "miTriangulo.set_lado2(8)\n",
        "miTriangulo.set_lado3(10)\n",
        "\n",
        "print(\"\\nDespués de cambiar los lados:\")\n",
        "print(\"Lado 1 del triángulo:\", miTriangulo.get_lado1())\n",
        "print(\"Lado 2 del triángulo:\", miTriangulo.get_lado2())\n",
        "print(\"Lado 3 del triángulo:\", miTriangulo.get_lado3())\n",
        "print(\"Área del triángulo:\", miTriangulo.get_area())\n",
        "print(\"Perímetro del triángulo:\", miTriangulo.get_perimetro())"
      ],
      "metadata": {
        "colab": {
          "base_uri": "https://localhost:8080/"
        },
        "id": "6qAmWXUpZyrx",
        "outputId": "26f61ea9-d753-49f1-9a9c-96c628bd9588"
      },
      "execution_count": 2,
      "outputs": [
        {
          "output_type": "stream",
          "name": "stdout",
          "text": [
            "Color del triángulo: Rojo\n",
            "Lado 1 del triángulo: 3\n",
            "Lado 2 del triángulo: 4\n",
            "Lado 3 del triángulo: 5\n",
            "Área del triángulo: 6.0\n",
            "Perímetro del triángulo: 12\n",
            "\n",
            "Después de cambiar los lados:\n",
            "Lado 1 del triángulo: 6\n",
            "Lado 2 del triángulo: 8\n",
            "Lado 3 del triángulo: 10\n",
            "Área del triángulo: 24.0\n",
            "Perímetro del triángulo: 24\n"
          ]
        }
      ]
    }
  ]
}