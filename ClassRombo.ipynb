{
  "nbformat": 4,
  "nbformat_minor": 0,
  "metadata": {
    "colab": {
      "provenance": [],
      "authorship_tag": "ABX9TyOBu+sc0/DTxBCo8qTac/vZ",
      "include_colab_link": true
    },
    "kernelspec": {
      "name": "python3",
      "display_name": "Python 3"
    },
    "language_info": {
      "name": "python"
    }
  },
  "cells": [
    {
      "cell_type": "markdown",
      "metadata": {
        "id": "view-in-github",
        "colab_type": "text"
      },
      "source": [
        "<a href=\"https://colab.research.google.com/github/arturo-solano/Practica6pp/blob/master/ClassRombo.ipynb\" target=\"_parent\"><img src=\"https://colab.research.google.com/assets/colab-badge.svg\" alt=\"Open In Colab\"/></a>"
      ]
    },
    {
      "cell_type": "code",
      "execution_count": 1,
      "metadata": {
        "id": "Uk2__vlIbCU0"
      },
      "outputs": [],
      "source": [
        "class Rombo:\n",
        "    # Constructor público\n",
        "    def __init__(self, color, diagonal_mayor, diagonal_menor):\n",
        "        self.__color = color\n",
        "        self.__diagonal_mayor = diagonal_mayor\n",
        "        self.__diagonal_menor = diagonal_menor\n",
        "        self.__area = 0\n",
        "        self.__perimetro = 0\n",
        "        self.calcular_area()\n",
        "        self.calcular_perimetro()\n",
        "\n",
        "    # Métodos para calcular el área y el perímetro\n",
        "    def calcular_area(self):\n",
        "        self.__area = (self.__diagonal_mayor * self.__diagonal_menor) / 2\n",
        "\n",
        "    def calcular_perimetro(self):\n",
        "        self.__perimetro = 4 * ((self.__diagonal_mayor / 2) ** 2 + (self.__diagonal_menor / 2) ** 2) ** 0.5\n",
        "\n",
        "    # Métodos para obtener los atributos\n",
        "    def get_color(self):\n",
        "        return self.__color\n",
        "\n",
        "    def get_diagonal_mayor(self):\n",
        "        return self.__diagonal_mayor\n",
        "\n",
        "    def get_diagonal_menor(self):\n",
        "        return self.__diagonal_menor\n",
        "\n",
        "    def get_area(self):\n",
        "        return self.__area\n",
        "\n",
        "    def get_perimetro(self):\n",
        "        return self.__perimetro\n",
        "\n",
        "    # Setters\n",
        "    def set_color(self, color):\n",
        "        self.__color = color\n",
        "\n",
        "    def set_diagonal_mayor(self, diagonal_mayor):\n",
        "        self.__diagonal_mayor = diagonal_mayor\n",
        "        self.calcular_area()\n",
        "        self.calcular_perimetro()\n",
        "\n",
        "    def set_diagonal_menor(self, diagonal_menor):\n",
        "        self.__diagonal_menor = diagonal_menor\n",
        "        self.calcular_area()\n",
        "        self.calcular_perimetro()"
      ]
    },
    {
      "cell_type": "code",
      "source": [
        "# Ejemplo de uso\n",
        "miRombo = Rombo(\"Verde\", 6, 8)\n",
        "\n",
        "print(\"Color del rombo:\", miRombo.get_color())\n",
        "print(\"Diagonal mayor del rombo:\", miRombo.get_diagonal_mayor())\n",
        "print(\"Diagonal menor del rombo:\", miRombo.get_diagonal_menor())\n",
        "print(\"Área del rombo:\", miRombo.get_area())\n",
        "print(\"Perímetro del rombo:\", miRombo.get_perimetro())\n",
        "\n",
        "# Cambiando las diagonales y mostrando los nuevos cálculos\n",
        "miRombo.set_diagonal_mayor(10)\n",
        "miRombo.set_diagonal_menor(12)\n",
        "\n",
        "print(\"\\nDespués de cambiar las diagonales:\")\n",
        "print(\"Diagonal mayor del rombo:\", miRombo.get_diagonal_mayor())\n",
        "print(\"Diagonal menor del rombo:\", miRombo.get_diagonal_menor())\n",
        "print(\"Área del rombo:\", miRombo.get_area())\n",
        "print(\"Perímetro del rombo:\", miRombo.get_perimetro())"
      ],
      "metadata": {
        "colab": {
          "base_uri": "https://localhost:8080/"
        },
        "id": "9yOzOXh7bQF8",
        "outputId": "e9de1cf8-4462-470a-afb9-80a96068c87c"
      },
      "execution_count": 2,
      "outputs": [
        {
          "output_type": "stream",
          "name": "stdout",
          "text": [
            "Color del rombo: Verde\n",
            "Diagonal mayor del rombo: 6\n",
            "Diagonal menor del rombo: 8\n",
            "Área del rombo: 24.0\n",
            "Perímetro del rombo: 20.0\n",
            "\n",
            "Después de cambiar las diagonales:\n",
            "Diagonal mayor del rombo: 10\n",
            "Diagonal menor del rombo: 12\n",
            "Área del rombo: 60.0\n",
            "Perímetro del rombo: 31.240998703626616\n"
          ]
        }
      ]
    }
  ]
}